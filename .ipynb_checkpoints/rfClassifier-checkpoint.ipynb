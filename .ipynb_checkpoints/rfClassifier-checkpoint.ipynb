{
 "cells": [
  {
   "cell_type": "markdown",
   "metadata": {},
   "source": [
    "# loadarff 导入uci的数据集\n",
    "arff（a relation file format）"
   ]
  },
  {
   "cell_type": "code",
   "execution_count": 20,
   "metadata": {},
   "outputs": [
    {
     "name": "stdout",
     "output_type": "stream",
     "text": [
      "nt\n"
     ]
    }
   ],
   "source": [
    "import os\n",
    "print(os.name)"
   ]
  },
  {
   "cell_type": "code",
   "execution_count": 21,
   "metadata": {},
   "outputs": [
    {
     "name": "stdout",
     "output_type": "stream",
     "text": [
      "G:\\Python\\Codes&Projects\\PatternRecognition\n"
     ]
    }
   ],
   "source": [
    "print(os.getcwd())"
   ]
  },
  {
   "cell_type": "code",
   "execution_count": 22,
   "metadata": {},
   "outputs": [
    {
     "name": "stdout",
     "output_type": "stream",
     "text": [
      "['.ipynb_checkpoints', 'loadDataset.py', 'OBS-Network-DataSet_2_Aug27.arff', 'Position_Salaries.csv', 'RandomForest.py', 'random_forest_regression.py', 'RF.py', 'rfClassifier.ipynb', 'Social_Network_Ads.csv', 'The judge.py']\n"
     ]
    }
   ],
   "source": [
    "print(os.listdir())"
   ]
  },
  {
   "cell_type": "code",
   "execution_count": 23,
   "metadata": {},
   "outputs": [
    {
     "data": {
      "text/plain": [
       "'loadDataset.py'"
      ]
     },
     "execution_count": 23,
     "metadata": {},
     "output_type": "execute_result"
    }
   ],
   "source": [
    "os.listdir()[1]"
   ]
  },
  {
   "cell_type": "code",
   "execution_count": 24,
   "metadata": {},
   "outputs": [
    {
     "name": "stdout",
     "output_type": "stream",
     "text": [
      "<class 'tuple'>\n"
     ]
    }
   ],
   "source": [
    "from scipy.io import arff\n",
    "\n",
    "theArff = os.path.join( 'OBS-Network-DataSet_2_Aug27.arff' )\n",
    "data = arff.loadarff(theArff)\n",
    "print(type(data))"
   ]
  },
  {
   "cell_type": "markdown",
   "metadata": {},
   "source": [
    "得到的data是一个tuple ， tuple的第一个表示数据， 第二个表示的是relation"
   ]
  },
  {
   "cell_type": "code",
   "execution_count": 25,
   "metadata": {},
   "outputs": [
    {
     "data": {
      "text/plain": [
       "(array([(3., 0.822038, 0.190381, 1000., 0.004815, 19.031487, 19.038129, 0.809619, 822.0375 , 177.9625 , 1440., 90324., 73128., 17196., 1.3006656e+08, 1.0530432e+08, 0.146594, 0.780936, 0.001838, b'B', 0.023455, b\"'NB-No Block'\"),\n",
       "        (9., 0.275513, 0.729111,  100., 0.004815, 72.889036, 72.911141, 0.270889,  27.55125,  72.44875, 1440.,  9048.,  2451.,  6598., 1.3029120e+07, 3.5294400e+06, 0.517669, 0.242451, 0.002236, b'NB', 0.460725, b'Block'),\n",
       "        (3., 0.923707, 0.090383,  900., 0.000633,  9.035834,  9.038339, 0.909617, 831.336  ,  68.664  , 1440., 81276., 73930.,  7346., 1.1703744e+08, 1.0645920e+08, 0.058749, 0.886758, 0.001751, b'B', 0.      , b\"'No Block'\"),\n",
       "        ...,\n",
       "        (3., 0.559238, 0.450597,  100., 0.000704, 44.993369, 45.059682, 0.549403,  55.92375,  44.07625, 1440.,  9048.,  4971.,  4077., 1.3029120e+07, 7.1582400e+06, 0.3019  , 0.492129, 0.000683, b\"'P NB'\", 0.06038 , b\"'NB-No Block'\"),\n",
       "        (3., 0.281194, 0.723309,  200., 0.003519, 72.31985 , 72.330902, 0.276691,  56.23875, 143.76125, 1440., 18096.,  5007.,    nan, 2.6058240e+07, 7.2100800e+06, 0.58588 , 0.253074, 0.003343, b'NB', 0.497998, b'Block'),\n",
       "        (9., 0.867038, 0.146063, 1000., 0.000633, 14.598556, 14.606306, 0.853937, 867.0375 , 132.9625 , 1440., 90324., 77131., 13193., 1.3006656e+08, 1.1106864e+08, 0.097862, 0.841026, 0.000627, b'B', 0.      , b\"'No Block'\")],\n",
       "       dtype=[('Node', '<f8'), ('Utilised Bandwith Rate', '<f8'), ('Packet Drop Rate', '<f8'), ('Full_Bandwidth', '<f8'), ('Average_Delay_Time_Per_Sec', '<f8'), ('Percentage_Of_Lost_Pcaket_Rate', '<f8'), ('Percentage_Of_Lost_Byte_Rate', '<f8'), ('Packet Received  Rate', '<f8'), ('of Used_Bandwidth', '<f8'), ('Lost_Bandwidth', '<f8'), ('Packet Size_Byte', '<f8'), ('Packet_Transmitted', '<f8'), ('Packet_Received', '<f8'), ('Packet_lost', '<f8'), ('Transmitted_Byte', '<f8'), ('Received_Byte', '<f8'), ('10-Run-AVG-Drop-Rate', '<f8'), ('10-Run-AVG-Bandwith-Use', '<f8'), ('10-Run-Delay', '<f8'), ('Node Status', 'S6'), ('Flood Status', '<f8'), ('Class', 'S13')]),\n",
       " Dataset: 'adellll-weka.filters.unsupervised.attribute.Remove-R1-weka.filters.unsupervised.attribute.Remove-R21,23'\n",
       " \tNode's type is numeric\n",
       " \tUtilised Bandwith Rate's type is numeric\n",
       " \tPacket Drop Rate's type is numeric\n",
       " \tFull_Bandwidth's type is numeric\n",
       " \tAverage_Delay_Time_Per_Sec's type is numeric\n",
       " \tPercentage_Of_Lost_Pcaket_Rate's type is numeric\n",
       " \tPercentage_Of_Lost_Byte_Rate's type is numeric\n",
       " \tPacket Received  Rate's type is numeric\n",
       " \tof Used_Bandwidth's type is numeric\n",
       " \tLost_Bandwidth's type is numeric\n",
       " \tPacket Size_Byte's type is numeric\n",
       " \tPacket_Transmitted's type is numeric\n",
       " \tPacket_Received's type is numeric\n",
       " \tPacket_lost's type is numeric\n",
       " \tTransmitted_Byte's type is numeric\n",
       " \tReceived_Byte's type is numeric\n",
       " \t10-Run-AVG-Drop-Rate's type is numeric\n",
       " \t10-Run-AVG-Bandwith-Use's type is numeric\n",
       " \t10-Run-Delay's type is numeric\n",
       " \tNode Status's type is nominal, range is ('B', 'NB', \"'P NB'\")\n",
       " \tFlood Status's type is numeric\n",
       " \tClass's type is nominal, range is (\"'NB-No Block'\", 'Block', \"'No Block'\", 'NB-Wait'))"
      ]
     },
     "execution_count": 25,
     "metadata": {},
     "output_type": "execute_result"
    }
   ],
   "source": [
    "data"
   ]
  },
  {
   "cell_type": "code",
   "execution_count": 26,
   "metadata": {},
   "outputs": [
    {
     "name": "stdout",
     "output_type": "stream",
     "text": [
      "[(3., 0.822038, 0.190381, 1000., 0.004815, 19.031487, 19.038129, 0.809619, 822.0375 , 177.9625 , 1440., 90324., 73128., 17196., 1.3006656e+08, 1.0530432e+08, 0.146594, 0.780936, 0.001838, b'B', 0.023455, b\"'NB-No Block'\")\n",
      " (9., 0.275513, 0.729111,  100., 0.004815, 72.889036, 72.911141, 0.270889,  27.55125,  72.44875, 1440.,  9048.,  2451.,  6598., 1.3029120e+07, 3.5294400e+06, 0.517669, 0.242451, 0.002236, b'NB', 0.460725, b'Block')\n",
      " (3., 0.923707, 0.090383,  900., 0.000633,  9.035834,  9.038339, 0.909617, 831.336  ,  68.664  , 1440., 81276., 73930.,  7346., 1.1703744e+08, 1.0645920e+08, 0.058749, 0.886758, 0.001751, b'B', 0.      , b\"'No Block'\")\n",
      " ...\n",
      " (3., 0.559238, 0.450597,  100., 0.000704, 44.993369, 45.059682, 0.549403,  55.92375,  44.07625, 1440.,  9048.,  4971.,  4077., 1.3029120e+07, 7.1582400e+06, 0.3019  , 0.492129, 0.000683, b\"'P NB'\", 0.06038 , b\"'NB-No Block'\")\n",
      " (3., 0.281194, 0.723309,  200., 0.003519, 72.31985 , 72.330902, 0.276691,  56.23875, 143.76125, 1440., 18096.,  5007.,    nan, 2.6058240e+07, 7.2100800e+06, 0.58588 , 0.253074, 0.003343, b'NB', 0.497998, b'Block')\n",
      " (9., 0.867038, 0.146063, 1000., 0.000633, 14.598556, 14.606306, 0.853937, 867.0375 , 132.9625 , 1440., 90324., 77131., 13193., 1.3006656e+08, 1.1106864e+08, 0.097862, 0.841026, 0.000627, b'B', 0.      , b\"'No Block'\")]\n"
     ]
    }
   ],
   "source": [
    "print(data[0])"
   ]
  },
  {
   "cell_type": "code",
   "execution_count": 27,
   "metadata": {},
   "outputs": [
    {
     "name": "stdout",
     "output_type": "stream",
     "text": [
      "Dataset: 'adellll-weka.filters.unsupervised.attribute.Remove-R1-weka.filters.unsupervised.attribute.Remove-R21,23'\n",
      "\tNode's type is numeric\n",
      "\tUtilised Bandwith Rate's type is numeric\n",
      "\tPacket Drop Rate's type is numeric\n",
      "\tFull_Bandwidth's type is numeric\n",
      "\tAverage_Delay_Time_Per_Sec's type is numeric\n",
      "\tPercentage_Of_Lost_Pcaket_Rate's type is numeric\n",
      "\tPercentage_Of_Lost_Byte_Rate's type is numeric\n",
      "\tPacket Received  Rate's type is numeric\n",
      "\tof Used_Bandwidth's type is numeric\n",
      "\tLost_Bandwidth's type is numeric\n",
      "\tPacket Size_Byte's type is numeric\n",
      "\tPacket_Transmitted's type is numeric\n",
      "\tPacket_Received's type is numeric\n",
      "\tPacket_lost's type is numeric\n",
      "\tTransmitted_Byte's type is numeric\n",
      "\tReceived_Byte's type is numeric\n",
      "\t10-Run-AVG-Drop-Rate's type is numeric\n",
      "\t10-Run-AVG-Bandwith-Use's type is numeric\n",
      "\t10-Run-Delay's type is numeric\n",
      "\tNode Status's type is nominal, range is ('B', 'NB', \"'P NB'\")\n",
      "\tFlood Status's type is numeric\n",
      "\tClass's type is nominal, range is (\"'NB-No Block'\", 'Block', \"'No Block'\", 'NB-Wait')\n",
      "\n"
     ]
    }
   ],
   "source": [
    "print(data[1])"
   ]
  },
  {
   "cell_type": "code",
   "execution_count": 28,
   "metadata": {},
   "outputs": [
    {
     "ename": "IndexError",
     "evalue": "tuple index out of range",
     "output_type": "error",
     "traceback": [
      "\u001b[1;31m------------------------------------------------\u001b[0m",
      "\u001b[1;31mIndexError\u001b[0m     Traceback (most recent call last)",
      "\u001b[1;32m<ipython-input-28-6b07a09c711f>\u001b[0m in \u001b[0;36m<module>\u001b[1;34m()\u001b[0m\n\u001b[1;32m----> 1\u001b[1;33m \u001b[0mprint\u001b[0m\u001b[1;33m(\u001b[0m\u001b[0mdata\u001b[0m\u001b[1;33m[\u001b[0m\u001b[1;36m2\u001b[0m\u001b[1;33m]\u001b[0m\u001b[1;33m)\u001b[0m \u001b[1;31m#out of range\u001b[0m\u001b[1;33m\u001b[0m\u001b[0m\n\u001b[0m",
      "\u001b[1;31mIndexError\u001b[0m: tuple index out of range"
     ]
    }
   ],
   "source": [
    "print(data[2]) #out of range"
   ]
  },
  {
   "cell_type": "code",
   "execution_count": 29,
   "metadata": {},
   "outputs": [
    {
     "name": "stdout",
     "output_type": "stream",
     "text": [
      "(1075, 22)\n",
      "   Node  Utilised Bandwith Rate  Packet Drop Rate  Full_Bandwidth  \\\n",
      "0   3.0                0.822038          0.190381          1000.0   \n",
      "1   9.0                0.275513          0.729111           100.0   \n",
      "2   3.0                0.923707          0.090383           900.0   \n",
      "3   9.0                0.368775          0.637710           100.0   \n",
      "4   3.0                0.905217          0.108670           800.0   \n",
      "\n",
      "   Average_Delay_Time_Per_Sec  Percentage_Of_Lost_Pcaket_Rate  \\\n",
      "0                    0.004815                       19.031487   \n",
      "1                    0.004815                       72.889036   \n",
      "2                    0.000633                        9.035834   \n",
      "3                    0.000552                       63.737843   \n",
      "4                    0.000497                       10.864208   \n",
      "\n",
      "   Percentage_Of_Lost_Byte_Rate  Packet Received  Rate  of Used_Bandwidth  \\\n",
      "0                     19.038129               0.809619          822.03750   \n",
      "1                     72.911141               0.270889           27.55125   \n",
      "2                      9.038339               0.909617          831.33600   \n",
      "3                     63.770999               0.362290           36.87750   \n",
      "4                     10.866977               0.891330          724.17375   \n",
      "\n",
      "   Lost_Bandwidth        ...         Packet_Received  Packet_lost  \\\n",
      "0       177.96250        ...                 73128.0      17196.0   \n",
      "1        72.44875        ...                  2451.0       6598.0   \n",
      "2        68.66400        ...                 73930.0       7346.0   \n",
      "3        63.12250        ...                  3278.0       5770.0   \n",
      "4        75.82625        ...                 64379.0       7849.0   \n",
      "\n",
      "   Transmitted_Byte  Received_Byte  10-Run-AVG-Drop-Rate  \\\n",
      "0       130066560.0    105304320.0              0.146594   \n",
      "1        13029120.0      3529440.0              0.517669   \n",
      "2       117037440.0    106459200.0              0.058749   \n",
      "3        13029120.0      4720320.0              0.522922   \n",
      "4       104008320.0     92705760.0              0.076069   \n",
      "\n",
      "   10-Run-AVG-Bandwith-Use  10-Run-Delay  Node Status  Flood Status  \\\n",
      "0                 0.780936      0.001838         b'B'      0.023455   \n",
      "1                 0.242451      0.002236        b'NB'      0.460725   \n",
      "2                 0.886758      0.001751         b'B'      0.000000   \n",
      "3                 0.324522      0.001776        b'NB'      0.439255   \n",
      "4                 0.869009      0.001767         b'B'      0.000000   \n",
      "\n",
      "              Class  \n",
      "0  b\"'NB-No Block'\"  \n",
      "1          b'Block'  \n",
      "2     b\"'No Block'\"  \n",
      "3          b'Block'  \n",
      "4     b\"'No Block'\"  \n",
      "\n",
      "[5 rows x 22 columns]\n"
     ]
    }
   ],
   "source": [
    "import pandas as pd\n",
    "df = pd.DataFrame(data[0])\n",
    "print(df.shape)\n",
    "print(df.head())"
   ]
  },
  {
   "cell_type": "code",
   "execution_count": 30,
   "metadata": {},
   "outputs": [
    {
     "name": "stdout",
     "output_type": "stream",
     "text": [
      "(1060, 22)\n"
     ]
    }
   ],
   "source": [
    "# df = df.drop_duplicates().dropna()\n",
    "df = df.dropna()\n",
    "print(df.shape)"
   ]
  },
  {
   "cell_type": "code",
   "execution_count": 35,
   "metadata": {},
   "outputs": [
    {
     "name": "stdout",
     "output_type": "stream",
     "text": [
      "X is <class 'pandas.core.frame.DataFrame'>, shape of X is (1060, 21) , y is <class 'pandas.core.frame.DataFrame'> , shape of y is (1060, 1)\n"
     ]
    }
   ],
   "source": [
    "X = df.drop(['Class'],axis=1)\n",
    "y = pd.DataFrame(df['Class'])\n",
    "print(\"X is {}, shape of X is {} , y is {} , shape of y is {}\".format(type(X),X.shape, type(y), y.shape))"
   ]
  },
  {
   "cell_type": "code",
   "execution_count": 38,
   "metadata": {},
   "outputs": [],
   "source": [
    "from sklearn.model_selection import train_test_split\n",
    "X_train , y_train, X_test , y_test = train_test_split(X,y,train_size = 0.75,test_size = 0.25,random_state = 42 )"
   ]
  },
  {
   "cell_type": "code",
   "execution_count": null,
   "metadata": {},
   "outputs": [],
   "source": [
    "from import NameSpace \n",
    " = NameSpace"
   ]
  },
  {
   "cell_type": "code",
   "execution_count": null,
   "metadata": {},
   "outputs": [],
   "source": [
    "from sklearn.ensemble import RandomForestClassifier as RFC\n",
    "rfcClf = RFC(\n",
    "    \n",
    ")"
   ]
  },
  {
   "cell_type": "code",
   "execution_count": null,
   "metadata": {},
   "outputs": [],
   "source": [
    "import matplotlib.pyplot as plt\n",
    "import numpy as np\n",
    "fig, axes = plt.subplots(nrows=2, ncols=1)\n",
    "\n",
    "plt.show()"
   ]
  },
  {
   "cell_type": "code",
   "execution_count": null,
   "metadata": {},
   "outputs": [],
   "source": [
    "y = df.iloc[:, -1].values\n",
    "print(y)"
   ]
  },
  {
   "cell_type": "code",
   "execution_count": null,
   "metadata": {},
   "outputs": [],
   "source": [
    "X = df.iloc[:, :-3].values\n",
    "print(X)"
   ]
  },
  {
   "cell_type": "code",
   "execution_count": null,
   "metadata": {},
   "outputs": [],
   "source": [
    "import matplotlib.pyplot as plt\n",
    "from sklearn.model_selection import train_test_split\n",
    "from sklearn.preprocessing import StandardScaler\n",
    "from sklearn.metrics import confusion_matrix\n",
    "\n",
    "clf = RFC( n_estimators = 10 , criterion = 'entropy' , random_state = 0)\n",
    "X_train, X_test, y_train, y_test = train_test_split(X, y, test_size = 0.25, random_state = 0)\n",
    "\n",
    "sc = StandardScaler()\n",
    "X_train = sc.fit_transform(X_train)\n",
    "X_test = sc.transform(X_test)\n",
    "print(type(X_train))"
   ]
  },
  {
   "cell_type": "code",
   "execution_count": null,
   "metadata": {},
   "outputs": [],
   "source": [
    " "
   ]
  },
  {
   "cell_type": "code",
   "execution_count": 9,
   "metadata": {},
   "outputs": [],
   "source": [
    "from sklearn.ensemble import RandomForestClassifier as RFC\n",
    "from scipy.io import arff\n",
    "import pandas as pd\n",
    "import os\n",
    "def classification_dataset(name):\n",
    "    data = arff.loadarff(name)\n",
    "    df = pd.DataFrame(data[0])\n",
    "\n",
    "    df = df.dropna()\n",
    "    df['Node Status'] = df['Node Status'].dropna().map({b'B': 0, b'NB': 1 , b\"'P NB'\":2}).astype(int) # encoding\n",
    "    X = df.drop(['Class',], axis=1)\n",
    "    y = df.iloc[:, -1:].values\n",
    "    X2 = df.iloc[:, :-3].values\n",
    "    return X,y\n"
   ]
  },
  {
   "cell_type": "code",
   "execution_count": 10,
   "metadata": {},
   "outputs": [],
   "source": [
    "X,y =  classification_dataset('OBS-Network-DataSet_2_Aug27.arff')"
   ]
  },
  {
   "cell_type": "code",
   "execution_count": 11,
   "metadata": {},
   "outputs": [],
   "source": [
    "from sklearn.model_selection import train_test_split, GridSearchCV\n",
    "X_train, X_test, y_train, y_test = train_test_split(X, y, test_size = 0.25, random_state = 0)\n",
    "\n",
    "clf = RFC(n_estimators=10, criterion='entropy', random_state=43 , oob_score=True,\n",
    "          max_features=\"auto\" ,)"
   ]
  },
  {
   "cell_type": "code",
   "execution_count": 12,
   "metadata": {},
   "outputs": [
    {
     "name": "stderr",
     "output_type": "stream",
     "text": [
      "c:\\users\\administrator\\appdata\\local\\programs\\python\\python35\\lib\\site-packages\\ipykernel_launcher.py:1: DataConversionWarning: A column-vector y was passed when a 1d array was expected. Please change the shape of y to (n_samples,), for example using ravel().\n",
      "  \"\"\"Entry point for launching an IPython kernel.\n"
     ]
    },
    {
     "ename": "ValueError",
     "evalue": "Unknown label type: 'unknown'",
     "output_type": "error",
     "traceback": [
      "\u001b[1;31m-------------------------------------------------------\u001b[0m",
      "\u001b[1;31mValueError\u001b[0m            Traceback (most recent call last)",
      "\u001b[1;32m<ipython-input-12-f033ce875146>\u001b[0m in \u001b[0;36m<module>\u001b[1;34m()\u001b[0m\n\u001b[1;32m----> 1\u001b[1;33m \u001b[0mclf\u001b[0m\u001b[1;33m.\u001b[0m\u001b[0mfit\u001b[0m\u001b[1;33m(\u001b[0m\u001b[0mX_train\u001b[0m \u001b[1;33m,\u001b[0m \u001b[0my_train\u001b[0m\u001b[1;33m)\u001b[0m\u001b[1;33m\u001b[0m\u001b[0m\n\u001b[0m",
      "\u001b[1;32m~\\AppData\\Roaming\\Python\\Python35\\site-packages\\sklearn\\ensemble\\forest.py\u001b[0m in \u001b[0;36mfit\u001b[1;34m(self, X, y, sample_weight)\u001b[0m\n\u001b[0;32m    271\u001b[0m         \u001b[0mself\u001b[0m\u001b[1;33m.\u001b[0m\u001b[0mn_outputs_\u001b[0m \u001b[1;33m=\u001b[0m \u001b[0my\u001b[0m\u001b[1;33m.\u001b[0m\u001b[0mshape\u001b[0m\u001b[1;33m[\u001b[0m\u001b[1;36m1\u001b[0m\u001b[1;33m]\u001b[0m\u001b[1;33m\u001b[0m\u001b[0m\n\u001b[0;32m    272\u001b[0m \u001b[1;33m\u001b[0m\u001b[0m\n\u001b[1;32m--> 273\u001b[1;33m         \u001b[0my\u001b[0m\u001b[1;33m,\u001b[0m \u001b[0mexpanded_class_weight\u001b[0m \u001b[1;33m=\u001b[0m \u001b[0mself\u001b[0m\u001b[1;33m.\u001b[0m\u001b[0m_validate_y_class_weight\u001b[0m\u001b[1;33m(\u001b[0m\u001b[0my\u001b[0m\u001b[1;33m)\u001b[0m\u001b[1;33m\u001b[0m\u001b[0m\n\u001b[0m\u001b[0;32m    274\u001b[0m \u001b[1;33m\u001b[0m\u001b[0m\n\u001b[0;32m    275\u001b[0m         \u001b[1;32mif\u001b[0m \u001b[0mgetattr\u001b[0m\u001b[1;33m(\u001b[0m\u001b[0my\u001b[0m\u001b[1;33m,\u001b[0m \u001b[1;34m\"dtype\"\u001b[0m\u001b[1;33m,\u001b[0m \u001b[1;32mNone\u001b[0m\u001b[1;33m)\u001b[0m \u001b[1;33m!=\u001b[0m \u001b[0mDOUBLE\u001b[0m \u001b[1;32mor\u001b[0m \u001b[1;32mnot\u001b[0m \u001b[0my\u001b[0m\u001b[1;33m.\u001b[0m\u001b[0mflags\u001b[0m\u001b[1;33m.\u001b[0m\u001b[0mcontiguous\u001b[0m\u001b[1;33m:\u001b[0m\u001b[1;33m\u001b[0m\u001b[0m\n",
      "\u001b[1;32m~\\AppData\\Roaming\\Python\\Python35\\site-packages\\sklearn\\ensemble\\forest.py\u001b[0m in \u001b[0;36m_validate_y_class_weight\u001b[1;34m(self, y)\u001b[0m\n\u001b[0;32m    469\u001b[0m \u001b[1;33m\u001b[0m\u001b[0m\n\u001b[0;32m    470\u001b[0m     \u001b[1;32mdef\u001b[0m \u001b[0m_validate_y_class_weight\u001b[0m\u001b[1;33m(\u001b[0m\u001b[0mself\u001b[0m\u001b[1;33m,\u001b[0m \u001b[0my\u001b[0m\u001b[1;33m)\u001b[0m\u001b[1;33m:\u001b[0m\u001b[1;33m\u001b[0m\u001b[0m\n\u001b[1;32m--> 471\u001b[1;33m         \u001b[0mcheck_classification_targets\u001b[0m\u001b[1;33m(\u001b[0m\u001b[0my\u001b[0m\u001b[1;33m)\u001b[0m\u001b[1;33m\u001b[0m\u001b[0m\n\u001b[0m\u001b[0;32m    472\u001b[0m \u001b[1;33m\u001b[0m\u001b[0m\n\u001b[0;32m    473\u001b[0m         \u001b[0my\u001b[0m \u001b[1;33m=\u001b[0m \u001b[0mnp\u001b[0m\u001b[1;33m.\u001b[0m\u001b[0mcopy\u001b[0m\u001b[1;33m(\u001b[0m\u001b[0my\u001b[0m\u001b[1;33m)\u001b[0m\u001b[1;33m\u001b[0m\u001b[0m\n",
      "\u001b[1;32m~\\AppData\\Roaming\\Python\\Python35\\site-packages\\sklearn\\utils\\multiclass.py\u001b[0m in \u001b[0;36mcheck_classification_targets\u001b[1;34m(y)\u001b[0m\n\u001b[0;32m    170\u001b[0m     if y_type not in ['binary', 'multiclass', 'multiclass-multioutput',\n\u001b[0;32m    171\u001b[0m                       'multilabel-indicator', 'multilabel-sequences']:\n\u001b[1;32m--> 172\u001b[1;33m         \u001b[1;32mraise\u001b[0m \u001b[0mValueError\u001b[0m\u001b[1;33m(\u001b[0m\u001b[1;34m\"Unknown label type: %r\"\u001b[0m \u001b[1;33m%\u001b[0m \u001b[0my_type\u001b[0m\u001b[1;33m)\u001b[0m\u001b[1;33m\u001b[0m\u001b[0m\n\u001b[0m\u001b[0;32m    173\u001b[0m \u001b[1;33m\u001b[0m\u001b[0m\n\u001b[0;32m    174\u001b[0m \u001b[1;33m\u001b[0m\u001b[0m\n",
      "\u001b[1;31mValueError\u001b[0m: Unknown label type: 'unknown'"
     ]
    }
   ],
   "source": [
    "clf.fit(X_train , y_train)"
   ]
  },
  {
   "cell_type": "code",
   "execution_count": 13,
   "metadata": {},
   "outputs": [],
   "source": [
    "from sklearn.utils.multiclass import type_of_target"
   ]
  },
  {
   "cell_type": "code",
   "execution_count": null,
   "metadata": {},
   "outputs": [],
   "source": [
    "type_of_target()"
   ]
  }
 ],
 "metadata": {
  "kernelspec": {
   "display_name": "Python 3",
   "language": "python",
   "name": "python3"
  },
  "language_info": {
   "codemirror_mode": {
    "name": "ipython",
    "version": 3
   },
   "file_extension": ".py",
   "mimetype": "text/x-python",
   "name": "python",
   "nbconvert_exporter": "python",
   "pygments_lexer": "ipython3",
   "version": "3.5.2"
  }
 },
 "nbformat": 4,
 "nbformat_minor": 2
}
